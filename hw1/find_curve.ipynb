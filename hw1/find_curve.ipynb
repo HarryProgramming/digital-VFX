{
 "cells": [
  {
   "cell_type": "code",
   "execution_count": 21,
   "metadata": {},
   "outputs": [],
   "source": [
    "import numpy as np\n",
    "import cv2 as cv\n",
    "import pandas as pd\n",
    "import random as rd"
   ]
  },
  {
   "cell_type": "code",
   "execution_count": 22,
   "metadata": {},
   "outputs": [
    {
     "ename": "TypeError",
     "evalue": "'int' object is not subscriptable",
     "output_type": "error",
     "traceback": [
      "\u001b[0;31m---------------------------------------------------------------------------\u001b[0m",
      "\u001b[0;31mTypeError\u001b[0m                                 Traceback (most recent call last)",
      "\u001b[0;32m/var/folders/bz/qpg9g_nj7lx_0r49_7jyc15c0000gp/T/ipykernel_2225/2308904179.py\u001b[0m in \u001b[0;36m<module>\u001b[0;34m\u001b[0m\n\u001b[1;32m     18\u001b[0m     \u001b[0;32mreturn\u001b[0m \u001b[0mnp\u001b[0m\u001b[0;34m.\u001b[0m\u001b[0masarray\u001b[0m\u001b[0;34m(\u001b[0m\u001b[0ma\u001b[0m\u001b[0;34m)\u001b[0m\u001b[0;34m\u001b[0m\u001b[0;34m\u001b[0m\u001b[0m\n\u001b[1;32m     19\u001b[0m \u001b[0;34m\u001b[0m\u001b[0m\n\u001b[0;32m---> 20\u001b[0;31m \u001b[0msolveradiance\u001b[0m\u001b[0;34m(\u001b[0m\u001b[0;36m1\u001b[0m\u001b[0;34m,\u001b[0m\u001b[0;36m2\u001b[0m\u001b[0;34m,\u001b[0m\u001b[0;36m3\u001b[0m\u001b[0;34m,\u001b[0m\u001b[0;36m4\u001b[0m\u001b[0;34m)\u001b[0m\u001b[0;34m\u001b[0m\u001b[0;34m\u001b[0m\u001b[0m\n\u001b[0m",
      "\u001b[0;32m/var/folders/bz/qpg9g_nj7lx_0r49_7jyc15c0000gp/T/ipykernel_2225/2308904179.py\u001b[0m in \u001b[0;36msolveradiance\u001b[0;34m(z, lgT, lam, w)\u001b[0m\n\u001b[1;32m     14\u001b[0m         \u001b[0;32mfor\u001b[0m \u001b[0mi\u001b[0m \u001b[0;32min\u001b[0m \u001b[0mrange\u001b[0m\u001b[0;34m(\u001b[0m\u001b[0mn\u001b[0m\u001b[0;34m)\u001b[0m\u001b[0;34m:\u001b[0m\u001b[0;34m\u001b[0m\u001b[0;34m\u001b[0m\u001b[0m\n\u001b[1;32m     15\u001b[0m             \u001b[0;32mfor\u001b[0m \u001b[0mr\u001b[0m \u001b[0;32min\u001b[0m \u001b[0mrange\u001b[0m\u001b[0;34m(\u001b[0m\u001b[0;36m256\u001b[0m\u001b[0;34m)\u001b[0m\u001b[0;34m:\u001b[0m\u001b[0;34m\u001b[0m\u001b[0;34m\u001b[0m\u001b[0m\n\u001b[0;32m---> 16\u001b[0;31m                 \u001b[0;32mif\u001b[0m \u001b[0mr\u001b[0m \u001b[0;34m==\u001b[0m \u001b[0mz\u001b[0m\u001b[0;34m[\u001b[0m\u001b[0mi\u001b[0m\u001b[0;34m]\u001b[0m\u001b[0;34m[\u001b[0m\u001b[0mj\u001b[0m\u001b[0;34m]\u001b[0m\u001b[0;34m:\u001b[0m\u001b[0;34m\u001b[0m\u001b[0;34m\u001b[0m\u001b[0m\n\u001b[0m\u001b[1;32m     17\u001b[0m                     \u001b[0ma\u001b[0m\u001b[0;34m[\u001b[0m\u001b[0mi\u001b[0m\u001b[0;34m+\u001b[0m\u001b[0mj\u001b[0m\u001b[0;34m*\u001b[0m\u001b[0;36m3\u001b[0m\u001b[0;34m]\u001b[0m\u001b[0;34m[\u001b[0m\u001b[0mr\u001b[0m\u001b[0;34m]\u001b[0m \u001b[0;34m=\u001b[0m \u001b[0;36m1\u001b[0m\u001b[0;34m\u001b[0m\u001b[0;34m\u001b[0m\u001b[0m\n\u001b[1;32m     18\u001b[0m     \u001b[0;32mreturn\u001b[0m \u001b[0mnp\u001b[0m\u001b[0;34m.\u001b[0m\u001b[0masarray\u001b[0m\u001b[0;34m(\u001b[0m\u001b[0ma\u001b[0m\u001b[0;34m)\u001b[0m\u001b[0;34m\u001b[0m\u001b[0;34m\u001b[0m\u001b[0m\n",
      "\u001b[0;31mTypeError\u001b[0m: 'int' object is not subscriptable"
     ]
    }
   ],
   "source": [
    "def solve_respondcurve(z,lgT,lam,w):\n",
    "    #z : ith pixel of those chosen in jth image(img0-img12)\n",
    "    n = len(z) #n : we choose n pixels total for each images\n",
    "    p = len(z[0])#p : we choose p images total \n",
    "    row = n*p + 1 + 254\n",
    "    col = 256 + n   # row and col in matrix a\n",
    "    a = [[] for i in range(row)]\n",
    "    b = [[] for i in range(row)]\n",
    "\n",
    "    #initialize matrix a(zero) and b(zero)\n",
    "    for i in range(row):\n",
    "        b[i].append(0)\n",
    "        for j in range(col):\n",
    "            a[i].append(0)\n",
    "    #initialize matrix a(zero) and b(zero)\n",
    "    \n",
    "    #return np.asarray(a)\n",
    "\n",
    "    #upper half of matrix a and b done\n",
    "    for j in range(p):\n",
    "        for i in range(n):\n",
    "            Z = z[i][j]\n",
    "            b[i+j*n][0] = lgT[j] * w[Z]\n",
    "            for r in range(256):\n",
    "                if r == Z :\n",
    "                    a[i+j*n][r] = 1 * w[Z]\n",
    "            a[i+j*n][i] = -1 * w[Z]\n",
    "    #upper half of matrix a and b done\n",
    "\n",
    "    #fix the curve by setting its middle value to 0\n",
    "    a[n*p][128] = 1\n",
    "    #fix the curve by setting its middle value to 0\n",
    "\n",
    "    #lower half of matrix a and b done\n",
    "    for k in range(n*p,n*p+254):\n",
    "        for l in range(254):\n",
    "            a[k+1][l] = 1 * z[l+1] * lam \n",
    "            a[k+1][l+1] = -2 * z[l+1] * lam \n",
    "            a[k+1][l+2] = 1 * z[l+1] * lam \n",
    "    #lower half of matrix a and b done\n",
    "    \n",
    "    A = np.array(a)\n",
    "    B = np.array(b)\n",
    "\n",
    "    print(np.shape(A))\n",
    "    print(np.shape(B))\n",
    "    \n",
    "    #Solve the system using SVD\n",
    "    x = np.linalg.lstsq(A,B)[0]\n",
    "    g = x[:256]\n",
    "    lE = x[256:]\n",
    "\n",
    "    return g, lE\n",
    "\n",
    "\n",
    "\n",
    "\n",
    "                \n",
    "\n",
    "    \n",
    "    \n",
    "\n"
   ]
  }
 ],
 "metadata": {
  "kernelspec": {
   "display_name": "base",
   "language": "python",
   "name": "python3"
  },
  "language_info": {
   "codemirror_mode": {
    "name": "ipython",
    "version": 3
   },
   "file_extension": ".py",
   "mimetype": "text/x-python",
   "name": "python",
   "nbconvert_exporter": "python",
   "pygments_lexer": "ipython3",
   "version": "3.9.13"
  },
  "orig_nbformat": 4
 },
 "nbformat": 4,
 "nbformat_minor": 2
}
