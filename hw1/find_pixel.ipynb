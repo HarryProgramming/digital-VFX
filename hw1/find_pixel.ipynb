{
 "cells": [
  {
   "cell_type": "code",
   "execution_count": 1,
   "metadata": {},
   "outputs": [],
   "source": [
    "import numpy as np"
   ]
  },
  {
   "cell_type": "code",
   "execution_count": 3,
   "metadata": {},
   "outputs": [],
   "source": [
    "def sample_pixels(images, num_samples, lambda_):\n",
    "    \n",
    "    # Choose pixels with largest standard deviation\n",
    "    stds = np.std(images, axis=0)\n",
    "    selected_pixel_value = np.argsort(stds.ravel())[::-1][:num_samples]\n",
    "    sampled_pixels = np.unravel_index(selected_pixel_value, stds.shape) \n",
    "    # returns (i of chosen pixel, j of chosen pixel)\n",
    "    \n",
    "    # Compute the sample values for each pixel\n",
    "    samples = np.zeros((num_samples, len(images)), dtype=np.float32)\n",
    "    for i in range(num_samples):\n",
    "        x, y = sampled_pixels[0][i], sampled_pixels[1][i]\n",
    "        for j in range(len(images)):\n",
    "            samples[i, j] = np.power(images[j][x, y], lambda_)\n",
    "    \n",
    "    return samples\n",
    "    # returns [ [], [], ..... [pixel values of last image] ]"
   ]
  }
 ],
 "metadata": {
  "kernelspec": {
   "display_name": "Python 3",
   "language": "python",
   "name": "python3"
  },
  "language_info": {
   "codemirror_mode": {
    "name": "ipython",
    "version": 3
   },
   "file_extension": ".py",
   "mimetype": "text/x-python",
   "name": "python",
   "nbconvert_exporter": "python",
   "pygments_lexer": "ipython3",
   "version": "3.10.7"
  },
  "orig_nbformat": 4
 },
 "nbformat": 4,
 "nbformat_minor": 2
}
