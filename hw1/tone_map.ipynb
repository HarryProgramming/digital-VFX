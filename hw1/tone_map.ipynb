{
 "cells": [
  {
   "cell_type": "code",
   "execution_count": 3,
   "metadata": {},
   "outputs": [],
   "source": [
    "import cv2 as cv\n",
    "import numpy as np"
   ]
  },
  {
   "cell_type": "code",
   "execution_count": 4,
   "metadata": {},
   "outputs": [],
   "source": [
    "def tone_mapping(hdr_image):\n",
    "    # Tone map HDR image using Reinhard algorithm\n",
    "    ldr_image = cv.createTonemapReinhard(hdr_image).process(hdr_image)\n",
    "\n",
    "    # Normalize pixel values to [0, 1]\n",
    "    ldr_image = cv.normalize(ldr_image, None, 0, 1, cv.NORM_MINMAX, dtype=cv.CV_32F)\n",
    "\n",
    "    # Convert float values to unsigned 8-bit integers in the range [0, 255]\n",
    "    ldr_image = (ldr_image * 255).astype('uint8')\n",
    "\n",
    "    # Show the LDR image\n",
    "    cv.imshow('Tone Mapped Image', ldr_image)\n",
    "\n",
    "    # Save LDR image to PNG file\n",
    "    cv.imwrite('result.png', ldr_image)"
   ]
  }
 ],
 "metadata": {
  "kernelspec": {
   "display_name": "Python 3",
   "language": "python",
   "name": "python3"
  },
  "language_info": {
   "codemirror_mode": {
    "name": "ipython",
    "version": 3
   },
   "file_extension": ".py",
   "mimetype": "text/x-python",
   "name": "python",
   "nbconvert_exporter": "python",
   "pygments_lexer": "ipython3",
   "version": "3.10.7"
  },
  "orig_nbformat": 4
 },
 "nbformat": 4,
 "nbformat_minor": 2
}
