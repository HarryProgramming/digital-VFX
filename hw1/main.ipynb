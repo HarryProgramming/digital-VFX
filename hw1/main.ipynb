{
 "cells": [
  {
   "cell_type": "code",
   "execution_count": 4,
   "metadata": {},
   "outputs": [],
   "source": [
    "import numpy as np\n",
    "import cv2 as cv\n",
    "import os"
   ]
  },
  {
   "cell_type": "code",
   "execution_count": 2,
   "metadata": {},
   "outputs": [],
   "source": [
    "def load_images(folder):\n",
    "    images = []\n",
    "    for filename in os.listdir(folder):\n",
    "        img = cv.imread(os.path.join(folder, filename))\n",
    "        if img is not None:\n",
    "            images.append(img)\n",
    "    return images"
   ]
  },
  {
   "cell_type": "code",
   "execution_count": 36,
   "metadata": {},
   "outputs": [],
   "source": [
    "def sample_pixels(images, num_samples):\n",
    "    \n",
    "    # Choose pixels with largest standard deviation\n",
    "    stds = np.std(images, axis=0)\n",
    "    selected_pixel_value = np.argsort(stds.ravel())[::-1][:num_samples]\n",
    "    sampled_pixels = np.unravel_index(selected_pixel_value, stds.shape) \n",
    "    # returns (i of chosen pixels, j of chosen pixels)\n",
    "    \n",
    "    # Compute the sample values for each pixel\n",
    "    samples = np.zeros((num_samples, len(images)), dtype=np.float32)\n",
    "    for i in range(num_samples):\n",
    "        x, y = sampled_pixels[0][i], sampled_pixels[1][i]\n",
    "        for j in range(len(images)):\n",
    "            samples[i, j] = images[j][x, y]\n",
    "    \n",
    "    return samples\n",
    "    # returns [ [first chosen pixel in every image], [], ..... [] ]"
   ]
  },
  {
   "cell_type": "code",
   "execution_count": 38,
   "metadata": {},
   "outputs": [],
   "source": [
    "def solve_respond_curve(z,lgT,lam,w):\n",
    "    #z : ith pixel of those chosen in jth image\n",
    "    n = len(z) #n : we choose n pixels total for each images\n",
    "    p = len(z[0])#p : we choose p images total \n",
    "    row = n*p + 1 + 254\n",
    "    col = 256 + n   # row and col in matrix a\n",
    "    a = [[] for i in range(row)]\n",
    "    b = [[] for i in range(row)]\n",
    "\n",
    "    #initialize matrix a(zero) and b(zero)\n",
    "    for i in range(row):\n",
    "        b[i].append(0)\n",
    "        for j in range(col):\n",
    "            a[i].append(0)\n",
    "\n",
    "    #upper half of matrix a and b done\n",
    "    for j in range(p):\n",
    "        for i in range(n):\n",
    "            Z = int(z[i][j])\n",
    "            b[i+j*n][0] = lgT[j] * w[Z]\n",
    "            for r in range(256):\n",
    "                if r == Z :\n",
    "                    a[i+j*n][r] = 1 * w[Z]\n",
    "            a[i+j*n][i] = -1 * w[Z]\n",
    "\n",
    "    #fix the curve by setting its middle value to 0\n",
    "    a[n*p][128] = 1\n",
    "\n",
    "    #lower half of matrix a and b done\n",
    "    for k in range(n*p,n*p+254):\n",
    "        for l in range(254):\n",
    "            a[k+1][l] = 1 * z[l+1] * lam \n",
    "            a[k+1][l+1] = -2 * z[l+1] * lam \n",
    "            a[k+1][l+2] = 1 * z[l+1] * lam \n",
    "            \n",
    "    \n",
    "    A = np.array(a)\n",
    "    B = np.array(b)\n",
    "\n",
    "    print(np.shape(A))\n",
    "    print(np.shape(B))\n",
    "    \n",
    "    #Solve the system using SVD\n",
    "    x = np.linalg.lstsq(A,B)[0]\n",
    "    g = x[:256]\n",
    "    lE = x[256:]\n",
    "\n",
    "    return g, lE"
   ]
  },
  {
   "cell_type": "code",
   "execution_count": 39,
   "metadata": {},
   "outputs": [
    {
     "ename": "IndexError",
     "evalue": "list index out of range",
     "output_type": "error",
     "traceback": [
      "\u001b[1;31m---------------------------------------------------------------------------\u001b[0m",
      "\u001b[1;31mIndexError\u001b[0m                                Traceback (most recent call last)",
      "Cell \u001b[1;32mIn[39], line 11\u001b[0m\n\u001b[0;32m      8\u001b[0m lambda_ \u001b[39m=\u001b[39m \u001b[39m50\u001b[39m \u001b[39m# for now\u001b[39;00m\n\u001b[0;32m      9\u001b[0m w \u001b[39m=\u001b[39m [value \u001b[39mif\u001b[39;00m value \u001b[39m<\u001b[39m\u001b[39m=\u001b[39m \u001b[39m0.5\u001b[39m\u001b[39m*\u001b[39m\u001b[39m255\u001b[39m \u001b[39melse\u001b[39;00m \u001b[39m255\u001b[39m\u001b[39m-\u001b[39mvalue \u001b[39mfor\u001b[39;00m value \u001b[39min\u001b[39;00m \u001b[39mrange\u001b[39m(\u001b[39m256\u001b[39m)]\n\u001b[1;32m---> 11\u001b[0m g, lnE \u001b[39m=\u001b[39m solve_respond_curve(z, exposure_times, lambda_, w)\n",
      "Cell \u001b[1;32mIn[38], line 20\u001b[0m, in \u001b[0;36msolve_respond_curve\u001b[1;34m(z, lgT, lam, w)\u001b[0m\n\u001b[0;32m     18\u001b[0m \u001b[39mfor\u001b[39;00m i \u001b[39min\u001b[39;00m \u001b[39mrange\u001b[39m(n):\n\u001b[0;32m     19\u001b[0m     Z \u001b[39m=\u001b[39m \u001b[39mint\u001b[39m(z[i][j])\n\u001b[1;32m---> 20\u001b[0m     b[i\u001b[39m+\u001b[39mj\u001b[39m*\u001b[39mn][\u001b[39m0\u001b[39m] \u001b[39m=\u001b[39m lgT[j] \u001b[39m*\u001b[39m w[Z]\n\u001b[0;32m     21\u001b[0m     \u001b[39mfor\u001b[39;00m r \u001b[39min\u001b[39;00m \u001b[39mrange\u001b[39m(\u001b[39m256\u001b[39m):\n\u001b[0;32m     22\u001b[0m         \u001b[39mif\u001b[39;00m r \u001b[39m==\u001b[39m Z :\n",
      "\u001b[1;31mIndexError\u001b[0m: list index out of range"
     ]
    }
   ],
   "source": [
    "if __name__ == '__main__':\n",
    "    folder = \"testing_image\" # for now\n",
    "    images = np.array(load_images(folder))\n",
    "    num_samples = 50 # for now\n",
    "    \n",
    "    z = sample_pixels(images[0], num_samples)\n",
    "    exposure_times = [0.25, 0.5, 0.75, 1] # for now\n",
    "    lambda_ = 50 # for now\n",
    "    w = [value if value <= 0.5*255 else 255-value for value in range(256)]\n",
    "    \n",
    "    g, lnE = solve_respond_curve(z, exposure_times, lambda_, w)"
   ]
  }
 ],
 "metadata": {
  "kernelspec": {
   "display_name": "Python 3",
   "language": "python",
   "name": "python3"
  },
  "language_info": {
   "codemirror_mode": {
    "name": "ipython",
    "version": 3
   },
   "file_extension": ".py",
   "mimetype": "text/x-python",
   "name": "python",
   "nbconvert_exporter": "python",
   "pygments_lexer": "ipython3",
   "version": "3.10.7"
  },
  "orig_nbformat": 4
 },
 "nbformat": 4,
 "nbformat_minor": 2
}
