{
 "cells": [
  {
   "cell_type": "code",
   "execution_count": null,
   "metadata": {},
   "outputs": [],
   "source": [
    "def construct_hdr(w,z,g,lgt):\n",
    "    p = len(z) #p : we choose p images total \n",
    "    n = len(z[0])#n : total n pixels for each images\n",
    "    lnE = [0 for i in range(n)]\n",
    "    for i in range(n):\n",
    "        top = 0 #each i 分子 initial\n",
    "        bottom = 0 #each i 分母 initial\n",
    "        for j in range(p):\n",
    "            Z = z[j][i]\n",
    "            top += w[Z]*(g[Z]-lgt[j])\n",
    "            bottom += w[Z]\n",
    "        lnE[i] = top/bottom if bottom > 0 else top\n",
    "    return lnE\n"
   ]
  }
 ],
 "metadata": {
  "language_info": {
   "name": "python"
  },
  "orig_nbformat": 4
 },
 "nbformat": 4,
 "nbformat_minor": 2
}
