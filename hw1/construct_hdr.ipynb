{
 "cells": [
  {
   "cell_type": "code",
   "execution_count": null,
   "metadata": {},
   "outputs": [],
   "source": [
    "def construct_hdr(w,z,g,lgt):\n",
    "    lnE = [] #initial lnEi\n",
    "    n = len(z) #n : we choose n pixels total for each images\n",
    "    p = len(z[0])#p : we choose p images total \n",
    "    for i in range(n):\n",
    "        top = 0 #each i 分子 initial\n",
    "        bottom = 0 #each i 分母 initial\n",
    "        for j in range(p):\n",
    "            Z = z[i][j]\n",
    "            top += w[Z]*(g[Z]-lgt[j])\n",
    "            bottom += w[Z]\n",
    "        lnE[i] = top/bottom if bottom > 0 else top\n",
    "    return lnE"
   ]
  }
 ],
 "metadata": {
  "language_info": {
   "name": "python"
  },
  "orig_nbformat": 4
 },
 "nbformat": 4,
 "nbformat_minor": 2
}
