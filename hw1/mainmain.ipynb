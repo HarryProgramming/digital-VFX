{
 "cells": [
  {
   "cell_type": "code",
   "execution_count": 61,
   "metadata": {},
   "outputs": [],
   "source": [
    "import numpy as np\n",
    "import cv2 as cv\n",
    "import pandas as pd\n",
    "import random as rd"
   ]
  },
  {
   "cell_type": "code",
   "execution_count": 62,
   "metadata": {},
   "outputs": [],
   "source": [
    "#1024 * 768\n",
    "#input test images(version1) total 13 images ---> p\n",
    "#analyze 10 pixel ---> n\n",
    "img1 = cv.imread('img01.jpg')\n",
    "img2 = cv.imread('img02.jpg')\n",
    "img3 = cv.imread('img03.jpg')\n",
    "img4 = cv.imread('img04.jpg')\n",
    "img5 = cv.imread('img05.jpg')\n",
    "img6 = cv.imread('img06.jpg')\n",
    "img7 = cv.imread('img07.jpg')\n",
    "img8 = cv.imread('img08.jpg')\n",
    "img9 = cv.imread('img09.jpg')\n",
    "img10 = cv.imread('img10.jpg')\n",
    "img11 = cv.imread('img11.jpg')\n",
    "img12 = cv.imread('img12.jpg')\n",
    "img13 = cv.imread('img13.jpg')\n",
    "\n",
    "y = [607, 400, 293, 101, 611, 398, 542, 617, 449, 628]\n",
    "x = [344, 241, 143, 33, 88, 85, 321, 329, 797, 708]\n",
    "for i in range(10):\n",
    "    y.append(rd.randint(0,768))\n",
    "    x.append(rd.randint(0,1024))\n",
    "\n",
    "\n",
    "    "
   ]
  },
  {
   "cell_type": "code",
   "execution_count": 63,
   "metadata": {},
   "outputs": [],
   "source": [
    "# channel0 : blue intensity recover\n",
    "a = [[] for i in range(384)] # matrix a\n",
    "for i in range(10):\n",
    "    print(i[33,33,0])"
   ]
  }
 ],
 "metadata": {
  "kernelspec": {
   "display_name": "base",
   "language": "python",
   "name": "python3"
  },
  "language_info": {
   "codemirror_mode": {
    "name": "ipython",
    "version": 3
   },
   "file_extension": ".py",
   "mimetype": "text/x-python",
   "name": "python",
   "nbconvert_exporter": "python",
   "pygments_lexer": "ipython3",
   "version": "3.9.13"
  },
  "orig_nbformat": 4
 },
 "nbformat": 4,
 "nbformat_minor": 2
}
