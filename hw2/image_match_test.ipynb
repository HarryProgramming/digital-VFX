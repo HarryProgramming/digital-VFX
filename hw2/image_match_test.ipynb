{
 "cells": [
  {
   "cell_type": "code",
   "execution_count": null,
   "metadata": {},
   "outputs": [],
   "source": [
    "import cv2\n",
    "import numpy as np\n",
    "\n",
    "def match_and_warp_images(img1, features1, img2, features2, matches):\n",
    "    # Convert feature point data to NumPy arrays\n",
    "    src_pts = np.float32([features1[m[0]] for m in matches]).reshape(-1, 1, 2)\n",
    "    dst_pts = np.float32([features2[m[1]] for m in matches]).reshape(-1, 1, 2)\n",
    "\n",
    "    matched_img = np.hstack((img1, img2))\n",
    "\n",
    "    for m in matches:\n",
    "        pt1 = tuple(map(int, features1[m[0]]))\n",
    "        pt2 = tuple(map(int, features2[m[1]]))\n",
    "        cv2.line(matched_img, pt1, (pt2[0] + img1.shape[1], pt2[1]), (0, 255, 0), 1)\n",
    "\n",
    "    # for kp in features1:\n",
    "    #     cv2.circle(img1, tuple(kp), 2, 255, -1)\n",
    "    # for kp in features2:\n",
    "    #     cv2.circle(img2, tuple(kp), 2, 255, -1)\n",
    "    # matched_img = np.hstack((img1, img2))\n",
    "\n",
    "\n",
    "    # Compute homography matrix\n",
    "    H, _ = cv2.findHomography(src_pts, dst_pts, cv2.RANSAC, 5.0)\n",
    "\n",
    "    # Warp image using homography\n",
    "    warped_img = cv2.warpPerspective(img1, H, img2.shape[::-1])\n",
    "\n",
    "    return matched_img, warped_img"
   ]
  }
 ],
 "metadata": {
  "language_info": {
   "name": "python"
  },
  "orig_nbformat": 4
 },
 "nbformat": 4,
 "nbformat_minor": 2
}
