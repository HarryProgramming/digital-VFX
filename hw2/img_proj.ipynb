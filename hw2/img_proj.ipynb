{
 "cells": [
  {
   "cell_type": "code",
   "execution_count": 8,
   "metadata": {},
   "outputs": [],
   "source": [
    "#section read images\n",
    "\n",
    "\n",
    "import cv2 as cv\n",
    "import os\n",
    "import numpy as np\n",
    "\n",
    "# Define the directory where the images are located\n",
    "img_dir = \"test_images\"\n",
    "\n",
    "# Define the image file extensions to be read\n",
    "img_exts = (\".jpg\", \".jpeg\", \".png\")\n",
    "\n",
    "# Initialize an empty list to store the images\n",
    "images = []\n",
    "\n",
    "# Loop through all the files in the directory\n",
    "for file in sorted(os.listdir(img_dir)):\n",
    "    # Check if the file has a valid image extension\n",
    "    if file.lower().endswith(img_exts):\n",
    "        # Read the image using OpenCV\n",
    "        img = cv.imread(os.path.join(img_dir, file))\n",
    "        # # Convert the image to grayscale and append it to the list\n",
    "        # gray = cv2.cvtColor(img, cv2.COLOR_BGR2GRAY)\n",
    "        images.append(img)\n",
    "        \n",
    "\n",
    "# Convert the list of images to a 2D numpy array\n",
    "img_array = np.array(images)\n",
    "\n",
    "# cv.imshow(\"First Image\", img_array[1])\n",
    "# cv.waitKey(0)\n",
    "# cv.destroyAllWindows()\n",
    "\n",
    "\n"
   ]
  },
  {
   "cell_type": "code",
   "execution_count": 9,
   "metadata": {},
   "outputs": [
    {
     "ename": "IndexError",
     "evalue": "only integers, slices (`:`), ellipsis (`...`), numpy.newaxis (`None`) and integer or boolean arrays are valid indices",
     "output_type": "error",
     "traceback": [
      "\u001b[0;31m---------------------------------------------------------------------------\u001b[0m",
      "\u001b[0;31mIndexError\u001b[0m                                Traceback (most recent call last)",
      "\u001b[0;32m/var/folders/bz/qpg9g_nj7lx_0r49_7jyc15c0000gp/T/ipykernel_1454/4033884135.py\u001b[0m in \u001b[0;36m<module>\u001b[0;34m\u001b[0m\n\u001b[1;32m     21\u001b[0m             \u001b[0mx\u001b[0m \u001b[0;34m=\u001b[0m \u001b[0mtheta\u001b[0m\u001b[0;34m\u001b[0m\u001b[0;34m\u001b[0m\u001b[0m\n\u001b[1;32m     22\u001b[0m             \u001b[0my\u001b[0m \u001b[0;34m=\u001b[0m \u001b[0mh\u001b[0m\u001b[0;34m\u001b[0m\u001b[0;34m\u001b[0m\u001b[0m\n\u001b[0;32m---> 23\u001b[0;31m             \u001b[0mproj_img\u001b[0m\u001b[0;34m[\u001b[0m\u001b[0my\u001b[0m\u001b[0;34m,\u001b[0m \u001b[0mx\u001b[0m\u001b[0;34m]\u001b[0m \u001b[0;34m=\u001b[0m \u001b[0morig_img\u001b[0m\u001b[0;34m[\u001b[0m\u001b[0mheight\u001b[0m\u001b[0;34m,\u001b[0m \u001b[0mwidth\u001b[0m\u001b[0;34m]\u001b[0m\u001b[0;34m\u001b[0m\u001b[0;34m\u001b[0m\u001b[0m\n\u001b[0m\u001b[1;32m     24\u001b[0m \u001b[0;34m\u001b[0m\u001b[0m\n\u001b[1;32m     25\u001b[0m \u001b[0mcv\u001b[0m\u001b[0;34m.\u001b[0m\u001b[0mimshow\u001b[0m\u001b[0;34m(\u001b[0m\u001b[0;34m\"projected Image 0\"\u001b[0m\u001b[0;34m,\u001b[0m \u001b[0mproj_images\u001b[0m\u001b[0;34m[\u001b[0m\u001b[0;36m0\u001b[0m\u001b[0;34m]\u001b[0m\u001b[0;34m)\u001b[0m\u001b[0;34m\u001b[0m\u001b[0;34m\u001b[0m\u001b[0m\n",
      "\u001b[0;31mIndexError\u001b[0m: only integers, slices (`:`), ellipsis (`...`), numpy.newaxis (`None`) and integer or boolean arrays are valid indices"
     ]
    }
   ],
   "source": [
    "import cv2\n",
    "import numpy as np\n",
    "import math\n",
    "\n",
    "\n",
    "# Get the dimensions of the image\n",
    "height, width, channels = img.shape\n",
    "\n",
    "# Define the center of the cylindrical coordinates\n",
    "x0 = width // 2\n",
    "y0 = height // 2\n",
    "\n",
    "# Define the focal length\n",
    "f = 500\n",
    "\n",
    "# Create a new image with the same size as the original image\n",
    "new_img = np.zeros_like(img)\n",
    "\n",
    "# Iterate over each pixel in the new image\n",
    "for i in range(height):\n",
    "    for j in range(width):\n",
    "        # Convert the pixel's (x, y) coordinates to cylindrical coordinates (r, theta)\n",
    "        x = j - x0\n",
    "        y = i - y0\n",
    "        r = math.sqrt(x**2 + f**2)\n",
    "        theta = math.atan(x / f)\n",
    "\n",
    "        # Calculate the new (x, y) coordinates from the cylindrical coordinates using the inverse transform\n",
    "        x_new = r * math.tan(theta) + x0\n",
    "        y_new = y / math.sqrt(x**2 + f**2) * r + y0\n",
    "\n",
    "        # Round the new (x, y) coordinates to the nearest integer to get the corresponding pixel in the original image\n",
    "        x_orig = int(round(x_new))\n",
    "        y_orig = int(round(y_new))\n",
    "\n",
    "        # Get the value of the original pixel at the (x_orig, y_orig) position, and set the value of the new pixel to this value\n",
    "        if x_orig >= 0 and x_orig < width and y_orig >= 0 and y_orig < height:\n",
    "            new_pixel_value = img[y_orig, x_orig]\n",
    "            new_img[i, j] = new_pixel_value\n",
    "\n",
    "# Save the new image to a file\n",
    "cv2.imwrite('new_image.jpg', new_img)\n"
   ]
  }
 ],
 "metadata": {
  "kernelspec": {
   "display_name": "base",
   "language": "python",
   "name": "python3"
  },
  "language_info": {
   "codemirror_mode": {
    "name": "ipython",
    "version": 3
   },
   "file_extension": ".py",
   "mimetype": "text/x-python",
   "name": "python",
   "nbconvert_exporter": "python",
   "pygments_lexer": "ipython3",
   "version": "3.9.13"
  },
  "orig_nbformat": 4
 },
 "nbformat": 4,
 "nbformat_minor": 2
}
