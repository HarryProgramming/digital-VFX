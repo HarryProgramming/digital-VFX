{
 "cells": [
  {
   "cell_type": "code",
   "execution_count": 1,
   "metadata": {},
   "outputs": [],
   "source": [
    "import cv2\n",
    "import numpy as np"
   ]
  },
  {
   "cell_type": "code",
   "execution_count": null,
   "metadata": {},
   "outputs": [],
   "source": [
    "def read_images(img_dir):\n",
    "\n",
    "    # Define the image file extensions to be read\n",
    "    img_exts = (\".jpg\", \".jpeg\", \".png\")\n",
    "\n",
    "    # Initialize an empty list to store the images\n",
    "    images = []\n",
    "\n",
    "    # Loop through all the files in the directory\n",
    "    for file in sorted(os.listdir(img_dir)):\n",
    "        # Check if the file has a valid image extension\n",
    "        if file.lower().endswith(img_exts):\n",
    "            # Read the image using OpenCV\n",
    "            img = cv2.imread(os.path.join(img_dir, file))\n",
    "            # # Convert the image to grayscale and append it to the list\n",
    "            # gray = cv2.cvtColor(img, cv2.COLOR_BGR2GRAY)\n",
    "            images.append(img)\n",
    "            \n",
    "\n",
    "    # Convert the list of images to a 2D numpy array\n",
    "    img_array = np.array(images)\n",
    "\n",
    "    return img_array"
   ]
  },
  {
   "cell_type": "code",
   "execution_count": 2,
   "metadata": {},
   "outputs": [],
   "source": [
    "def feature_descriptor(img, corners, patch_size=16, num_sub_blocks=4, num_bins=8):\n",
    "    # Convert the image to grayscale\n",
    "    gray = cv2.cvtColor(img, cv2.COLOR_BGR2GRAY)\n",
    "\n",
    "    # Compute the gradient magnitudes and orientations of the entire image\n",
    "    dx = cv2.Sobel(gray, cv2.CV_64F, 1, 0, ksize=3)\n",
    "    dy = cv2.Sobel(gray, cv2.CV_64F, 0, 1, ksize=3)\n",
    "    mag = np.sqrt(dx**2 + dy**2)\n",
    "    ang = np.arctan2(dy, dx) * 180 / np.pi\n",
    "\n",
    "    # Initialize an empty array to store the feature descriptors\n",
    "    descriptors = np.zeros((len(corners), num_sub_blocks**2 * num_bins))\n",
    "\n",
    "    # Loop over each detected corner\n",
    "    for i, corner in enumerate(corners):\n",
    "        x, y = corner\n",
    "\n",
    "        # Extract a patch of pixels centered around the corner\n",
    "        half_patch_size = patch_size // 2\n",
    "        patch_mag = mag[x-half_patch_size:x+half_patch_size+1, y-half_patch_size:y+half_patch_size+1]\n",
    "        patch_ang = ang[x-half_patch_size:x+half_patch_size+1, y-half_patch_size:y+half_patch_size+1]\n",
    "\n",
    "        # Divide the patch into sub-blocks and compute histograms of gradient orientations\n",
    "        sub_block_size = patch_size // num_sub_blocks\n",
    "        descriptor = np.zeros(num_sub_blocks**2 * num_bins)\n",
    "        bin_width = 360 / num_bins\n",
    "        for j in range(num_sub_blocks):\n",
    "            for k in range(num_sub_blocks):\n",
    "                sub_patch_mag = patch_mag[j*sub_block_size:(j+1)*sub_block_size, k*sub_block_size:(k+1)*sub_block_size]\n",
    "                sub_patch_ang = patch_ang[j*sub_block_size:(j+1)*sub_block_size, k*sub_block_size:(k+1)*sub_block_size]\n",
    "                hist, _ = np.histogram(sub_patch_ang, bins=num_bins, range=(0, 360), weights=sub_patch_mag)\n",
    "                descriptor[j*num_sub_blocks*num_bins + k*num_bins:j*num_sub_blocks*num_bins + (k+1)*num_bins] = hist\n",
    "\n",
    "        # Normalize the descriptor to make it invariant to changes in illumination and contrast\n",
    "        descriptor /= np.linalg.norm(descriptor)\n",
    "\n",
    "        # Add the descriptor to the list of descriptors\n",
    "        descriptors[i] = descriptor\n",
    "\n",
    "    return descriptors\n"
   ]
  },
  {
   "cell_type": "code",
   "execution_count": null,
   "metadata": {},
   "outputs": [],
   "source": [
    "# Draw the descriptors on the image\n",
    "sift_img = img.copy()\n",
    "for i, corner in enumerate(corners):\n",
    "    x, y = corner\n",
    "    descriptor = descriptors[i]\n",
    "    for j in range(len(descriptor)):\n",
    "        value = int(descriptor[j] * 255)\n",
    "        color = (value, value, value)\n",
    "        x1 = x + j % 16 - 8\n",
    "        y1 = y + j // 16 - 8\n",
    "        x2 = x1 + 1\n",
    "        y2 = y1 + 1\n",
    "        cv2.rectangle(sift_img, (x1, y1), (x2, y2), color, -1)\n",
    "\n",
    "# Show the image\n",
    "cv2.imshow('SIFT descriptors', sift_img)\n",
    "cv2.waitKey(0)\n",
    "cv2.destroyAllWindows()"
   ]
  }
 ],
 "metadata": {
  "kernelspec": {
   "display_name": "Python 3",
   "language": "python",
   "name": "python3"
  },
  "language_info": {
   "codemirror_mode": {
    "name": "ipython",
    "version": 3
   },
   "file_extension": ".py",
   "mimetype": "text/x-python",
   "name": "python",
   "nbconvert_exporter": "python",
   "pygments_lexer": "ipython3",
   "version": "3.10.7"
  },
  "orig_nbformat": 4
 },
 "nbformat": 4,
 "nbformat_minor": 2
}
